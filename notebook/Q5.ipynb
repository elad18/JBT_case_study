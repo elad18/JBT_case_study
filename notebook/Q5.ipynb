{
 "cells": [
  {
   "cell_type": "markdown",
   "id": "1c634cc4",
   "metadata": {},
   "source": [
    "<H1 align=\"center\"> Aleksander Dosti - Q5 Notebook </H1> "
   ]
  },
  {
   "cell_type": "code",
   "execution_count": 1,
   "id": "5723a6c2",
   "metadata": {},
   "outputs": [],
   "source": [
    "import os \n",
    "import pandas as pd\n",
    "import numpy as np"
   ]
  },
  {
   "cell_type": "code",
   "execution_count": 2,
   "id": "259bdb4b",
   "metadata": {},
   "outputs": [
    {
     "data": {
      "text/html": [
       "<div>\n",
       "<style scoped>\n",
       "    .dataframe tbody tr th:only-of-type {\n",
       "        vertical-align: middle;\n",
       "    }\n",
       "\n",
       "    .dataframe tbody tr th {\n",
       "        vertical-align: top;\n",
       "    }\n",
       "\n",
       "    .dataframe thead th {\n",
       "        text-align: right;\n",
       "    }\n",
       "</style>\n",
       "<table border=\"1\" class=\"dataframe\">\n",
       "  <thead>\n",
       "    <tr style=\"text-align: right;\">\n",
       "      <th></th>\n",
       "      <th>booking_ID</th>\n",
       "      <th>traveller_ID</th>\n",
       "      <th>company_ID</th>\n",
       "      <th>booking_date</th>\n",
       "      <th>departure_date</th>\n",
       "      <th>origin</th>\n",
       "      <th>destination</th>\n",
       "      <th>price_usd</th>\n",
       "      <th>status</th>\n",
       "    </tr>\n",
       "  </thead>\n",
       "  <tbody>\n",
       "    <tr>\n",
       "      <th>0</th>\n",
       "      <td>4025741954330767167</td>\n",
       "      <td>301</td>\n",
       "      <td>2</td>\n",
       "      <td>2019-01-02</td>\n",
       "      <td>2019-04-20</td>\n",
       "      <td>Sao Paolo</td>\n",
       "      <td>Milano</td>\n",
       "      <td>67</td>\n",
       "      <td>BOOKED</td>\n",
       "    </tr>\n",
       "    <tr>\n",
       "      <th>1</th>\n",
       "      <td>5401900986077032623</td>\n",
       "      <td>286</td>\n",
       "      <td>12</td>\n",
       "      <td>2019-01-02</td>\n",
       "      <td>2019-04-16</td>\n",
       "      <td>Beijing</td>\n",
       "      <td>Brussels</td>\n",
       "      <td>150</td>\n",
       "      <td>BOOKED</td>\n",
       "    </tr>\n",
       "    <tr>\n",
       "      <th>2</th>\n",
       "      <td>7954793568595977968</td>\n",
       "      <td>136</td>\n",
       "      <td>12</td>\n",
       "      <td>2019-01-02</td>\n",
       "      <td>2019-04-28</td>\n",
       "      <td>Toronto</td>\n",
       "      <td>Budapest</td>\n",
       "      <td>594</td>\n",
       "      <td>BOOKED</td>\n",
       "    </tr>\n",
       "    <tr>\n",
       "      <th>3</th>\n",
       "      <td>2008916062229464357</td>\n",
       "      <td>442</td>\n",
       "      <td>18</td>\n",
       "      <td>2019-01-02</td>\n",
       "      <td>2019-03-03</td>\n",
       "      <td>Moscow</td>\n",
       "      <td>Dubai</td>\n",
       "      <td>532</td>\n",
       "      <td>BOOKED</td>\n",
       "    </tr>\n",
       "    <tr>\n",
       "      <th>4</th>\n",
       "      <td>3817049762679670509</td>\n",
       "      <td>249</td>\n",
       "      <td>25</td>\n",
       "      <td>2019-01-02</td>\n",
       "      <td>2019-04-27</td>\n",
       "      <td>Prague</td>\n",
       "      <td>Sydney</td>\n",
       "      <td>358</td>\n",
       "      <td>BOOKED</td>\n",
       "    </tr>\n",
       "  </tbody>\n",
       "</table>\n",
       "</div>"
      ],
      "text/plain": [
       "            booking_ID  traveller_ID  company_ID booking_date departure_date  \\\n",
       "0  4025741954330767167           301           2   2019-01-02     2019-04-20   \n",
       "1  5401900986077032623           286          12   2019-01-02     2019-04-16   \n",
       "2  7954793568595977968           136          12   2019-01-02     2019-04-28   \n",
       "3  2008916062229464357           442          18   2019-01-02     2019-03-03   \n",
       "4  3817049762679670509           249          25   2019-01-02     2019-04-27   \n",
       "\n",
       "      origin destination  price_usd  status  \n",
       "0  Sao Paolo      Milano         67  BOOKED  \n",
       "1    Beijing    Brussels        150  BOOKED  \n",
       "2    Toronto    Budapest        594  BOOKED  \n",
       "3     Moscow       Dubai        532  BOOKED  \n",
       "4     Prague      Sydney        358  BOOKED  "
      ]
     },
     "execution_count": 2,
     "metadata": {},
     "output_type": "execute_result"
    }
   ],
   "source": [
    "df = pd.read_csv('../data/results/cleaned_bookings.csv').drop(['Unnamed: 0'], axis=1)\n",
    "df['booking_date'] = pd.to_datetime(df['booking_date'], format='%Y-%m-%d')\n",
    "df['departure_date'] = pd.to_datetime(df['departure_date'], format='%Y-%m-%d')\n",
    "df.head()"
   ]
  },
  {
   "cell_type": "markdown",
   "id": "628fb9d2",
   "metadata": {},
   "source": [
    "Let's first inspect for seasonality and how that impacts our data."
   ]
  },
  {
   "cell_type": "code",
   "execution_count": 4,
   "id": "a8c17571",
   "metadata": {},
   "outputs": [
    {
     "data": {
      "text/html": [
       "<div>\n",
       "<style scoped>\n",
       "    .dataframe tbody tr th:only-of-type {\n",
       "        vertical-align: middle;\n",
       "    }\n",
       "\n",
       "    .dataframe tbody tr th {\n",
       "        vertical-align: top;\n",
       "    }\n",
       "\n",
       "    .dataframe thead th {\n",
       "        text-align: right;\n",
       "    }\n",
       "</style>\n",
       "<table border=\"1\" class=\"dataframe\">\n",
       "  <thead>\n",
       "    <tr style=\"text-align: right;\">\n",
       "      <th></th>\n",
       "      <th>booking_ID</th>\n",
       "      <th>traveller_ID</th>\n",
       "      <th>company_ID</th>\n",
       "      <th>booking_date</th>\n",
       "      <th>departure_date</th>\n",
       "      <th>origin</th>\n",
       "      <th>destination</th>\n",
       "      <th>price_usd</th>\n",
       "      <th>status</th>\n",
       "    </tr>\n",
       "  </thead>\n",
       "  <tbody>\n",
       "    <tr>\n",
       "      <th>0</th>\n",
       "      <td>4025741954330767167</td>\n",
       "      <td>301</td>\n",
       "      <td>2</td>\n",
       "      <td>2019-01-02</td>\n",
       "      <td>2019-04-20</td>\n",
       "      <td>Sao Paolo</td>\n",
       "      <td>Milano</td>\n",
       "      <td>67</td>\n",
       "      <td>BOOKED</td>\n",
       "    </tr>\n",
       "    <tr>\n",
       "      <th>1</th>\n",
       "      <td>5401900986077032623</td>\n",
       "      <td>286</td>\n",
       "      <td>12</td>\n",
       "      <td>2019-01-02</td>\n",
       "      <td>2019-04-16</td>\n",
       "      <td>Beijing</td>\n",
       "      <td>Brussels</td>\n",
       "      <td>150</td>\n",
       "      <td>BOOKED</td>\n",
       "    </tr>\n",
       "    <tr>\n",
       "      <th>2</th>\n",
       "      <td>7954793568595977968</td>\n",
       "      <td>136</td>\n",
       "      <td>12</td>\n",
       "      <td>2019-01-02</td>\n",
       "      <td>2019-04-28</td>\n",
       "      <td>Toronto</td>\n",
       "      <td>Budapest</td>\n",
       "      <td>594</td>\n",
       "      <td>BOOKED</td>\n",
       "    </tr>\n",
       "    <tr>\n",
       "      <th>3</th>\n",
       "      <td>2008916062229464357</td>\n",
       "      <td>442</td>\n",
       "      <td>18</td>\n",
       "      <td>2019-01-02</td>\n",
       "      <td>2019-03-03</td>\n",
       "      <td>Moscow</td>\n",
       "      <td>Dubai</td>\n",
       "      <td>532</td>\n",
       "      <td>BOOKED</td>\n",
       "    </tr>\n",
       "    <tr>\n",
       "      <th>4</th>\n",
       "      <td>3817049762679670509</td>\n",
       "      <td>249</td>\n",
       "      <td>25</td>\n",
       "      <td>2019-01-02</td>\n",
       "      <td>2019-04-27</td>\n",
       "      <td>Prague</td>\n",
       "      <td>Sydney</td>\n",
       "      <td>358</td>\n",
       "      <td>BOOKED</td>\n",
       "    </tr>\n",
       "  </tbody>\n",
       "</table>\n",
       "</div>"
      ],
      "text/plain": [
       "            booking_ID  traveller_ID  company_ID booking_date departure_date  \\\n",
       "0  4025741954330767167           301           2   2019-01-02     2019-04-20   \n",
       "1  5401900986077032623           286          12   2019-01-02     2019-04-16   \n",
       "2  7954793568595977968           136          12   2019-01-02     2019-04-28   \n",
       "3  2008916062229464357           442          18   2019-01-02     2019-03-03   \n",
       "4  3817049762679670509           249          25   2019-01-02     2019-04-27   \n",
       "\n",
       "      origin destination  price_usd  status  \n",
       "0  Sao Paolo      Milano         67  BOOKED  \n",
       "1    Beijing    Brussels        150  BOOKED  \n",
       "2    Toronto    Budapest        594  BOOKED  \n",
       "3     Moscow       Dubai        532  BOOKED  \n",
       "4     Prague      Sydney        358  BOOKED  "
      ]
     },
     "execution_count": 4,
     "metadata": {},
     "output_type": "execute_result"
    }
   ],
   "source": [
    "df = df[df['status'] == 'BOOKED']\n",
    "df.head()"
   ]
  },
  {
   "cell_type": "code",
   "execution_count": 5,
   "id": "05cf8fc1",
   "metadata": {},
   "outputs": [
    {
     "data": {
      "image/png": "[encoded data removed]",
      "text/plain": [
       "<Figure size 576x360 with 1 Axes>"
      ]
     },
     "metadata": {
      "needs_background": "light"
     },
     "output_type": "display_data"
    }
   ],
   "source": [
    "import matplotlib.pyplot as plt\n",
    "\n",
    "booking_df = df.groupby([df.booking_date.dt.month])['price_usd'].count().reset_index().rename({'price_usd':'count', 'booking_date':'booking_month'}, axis=1)\n",
    "departure_df = df.groupby([df.departure_date.dt.month])['price_usd'].count().reset_index().rename({'price_usd':'count', 'departure_date':'departure_month'}, axis=1)\n",
    "\n",
    "plt.figure(figsize=(8, 5))\n",
    "plt.plot(booking_df['booking_month'], booking_df['count'],\n",
    "         color='blue',\n",
    "         label='bookings',\n",
    "         linewidth=1.0)\n",
    "\n",
    "plt.plot(departure_df['departure_month'], departure_df['count'],\n",
    "         color='red',\n",
    "         linewidth=1.0,\n",
    "         label='departures',\n",
    "         linestyle='--'\n",
    "        )\n",
    "\n",
    "plt.xlabel(\"Month\")\n",
    "plt.ylabel(\"Count\")\n",
    "plt.legend()\n",
    "\n",
    "plt.show()"
   ]
  },
  {
   "cell_type": "markdown",
   "id": "02595e1f",
   "metadata": {},
   "source": [
    "We observe an interesting spike in departures being booked for April, one possible explanation for this is that prices are more affordable during this period. Indeed complementing this hypothesis are the, on average, lower prices for departures scheduled for April (see below)."
   ]
  },
  {
   "cell_type": "code",
   "execution_count": 6,
   "id": "3d6ed20f",
   "metadata": {},
   "outputs": [
    {
     "data": {
      "image/png": "[encoded data removed]",
      "text/plain": [
       "<Figure size 576x360 with 1 Axes>"
      ]
     },
     "metadata": {
      "needs_background": "light"
     },
     "output_type": "display_data"
    }
   ],
   "source": [
    "import matplotlib.pyplot as plt\n",
    "\n",
    "trip_df = df.groupby([df.booking_date.dt.month])['price_usd'].mean().reset_index().rename({'booking_date':'booking_month'}, axis=1)\n",
    "departure_df = df.groupby([df.departure_date.dt.month])['price_usd'].mean().reset_index().rename({'departure_date':'departure_month'}, axis=1)\n",
    "\n",
    "plt.figure(figsize=(8, 5))\n",
    "plt.plot(trip_df['booking_month'], trip_df['price_usd'],\n",
    "         color='blue',\n",
    "         label='trips',\n",
    "         linewidth=1.0)\n",
    "\n",
    "plt.plot(departure_df['departure_month'], departure_df['price_usd'],\n",
    "         color='red',\n",
    "         linewidth=1.0,\n",
    "         label='departures',\n",
    "         linestyle='--'\n",
    "        )\n",
    "\n",
    "plt.xlabel(\"Month\")\n",
    "plt.ylabel(\"price ($)\")\n",
    "plt.legend()\n",
    "\n",
    "plt.show()"
   ]
  },
  {
   "cell_type": "markdown",
   "id": "a6d41afa",
   "metadata": {},
   "source": [
    "We also observe a continual increase in price from August to December, at the same time a decline in the number of departures departures can be observered for this same period. \n",
    "\n",
    "Therefore, by ensuring that prices are more affordable during this period may observe an increase in departures during this date period. \n",
    "\n",
    "Indeed, this would be complemented by improving the current targetting strategy used by JBT. For example, we note the histogram distribution of the difference in the number day between a trip date and the departure date shows that trips are most commonly booked 1-2 months in advance of a departure. \n",
    "\n",
    "Therefore, in targetting the months of June and October we would see sustained increases in the frequency of booking a trip. The ambition here is to produce continious demand for business travel throughout the year and improve quarterly outlook with respect to demand for business travel.\n",
    "\n",
    "    (NOTE): A lag period of ~1 month is assumed within this notebook for a conversion to take effect, hence why the dates are not alligned.\n"
   ]
  },
  {
   "cell_type": "code",
   "execution_count": 8,
   "id": "71905825",
   "metadata": {},
   "outputs": [],
   "source": [
    "df['diff_days'] = (df['departure_date'] - df['booking_date']) / np.timedelta64(1, 'D')"
   ]
  },
  {
   "cell_type": "code",
   "execution_count": 12,
   "id": "b794d0a3",
   "metadata": {},
   "outputs": [
    {
     "name": "stderr",
     "output_type": "stream",
     "text": [
      "/home/adosti/work/cwt/.q5venv/lib/python3.10/site-packages/seaborn/distributions.py:2619: FutureWarning: `distplot` is a deprecated function and will be removed in a future version. Please adapt your code to use either `displot` (a figure-level function with similar flexibility) or `histplot` (an axes-level function for histograms).\n",
      "  warnings.warn(msg, FutureWarning)\n",
      "/home/adosti/work/cwt/.q5venv/lib/python3.10/site-packages/seaborn/distributions.py:2103: FutureWarning: The `axis` variable is no longer used and will be removed. Instead, assign variables directly to `x` or `y`.\n",
      "  warnings.warn(msg, FutureWarning)\n"
     ]
    },
    {
     "data": {
      "image/png": "[encoded data removed]",
      "text/plain": [
       "<Figure size 432x288 with 1 Axes>"
      ]
     },
     "metadata": {
      "needs_background": "light"
     },
     "output_type": "display_data"
    }
   ],
   "source": [
    "import seaborn as sns\n",
    "ax = sns.distplot(df['diff_days'], rug=True, rug_kws={\"color\": \"g\"},\n",
    "                  kde_kws={\"color\": \"k\", \"lw\": 3, \"label\": \"KDE\"},\n",
    "                  hist_kws={\"histtype\": \"step\", \"linewidth\": 3,\n",
    "                            \"alpha\": 1, \"color\": \"g\"})"
   ]
  },
  {
   "cell_type": "markdown",
   "id": "0711f596",
   "metadata": {},
   "source": [
    "Points of interest:\n",
    "<ol>\n",
    "<li> Mapping cities to country would make a rollup considerably easier, allowing us to see how demand across continents is impacted by seasonality. The sector in which a client operates in (e.g. Agriculture, Finance, Computing etc...) could also be factored in to better target a client according to their needs.\n",
    "</li>\n",
    "\n",
    "For instance, the spring season is ideal for harvesting certain types of crops, so we may notice an uptick in clients in the Agricultural sector visiting countries reliant on agricultural production to do business in this period. Noticing this, we would then be able to offer tailored services to said client.\n",
    "</ol>"
   ]
  }
 ],
 "metadata": {
  "kernelspec": {
   "display_name": "Python 3 (ipykernel)",
   "language": "python",
   "name": "python3"
  },
  "language_info": {
   "codemirror_mode": {
    "name": "ipython",
    "version": 3
   },
   "file_extension": ".py",
   "mimetype": "text/x-python",
   "name": "python",
   "nbconvert_exporter": "python",
   "pygments_lexer": "ipython3",
   "version": "3.10.4"
  }
 },
 "nbformat": 4,
 "nbformat_minor": 5
}
